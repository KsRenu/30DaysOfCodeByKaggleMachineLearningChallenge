{
 "cells": [
  {
   "cell_type": "code",
   "execution_count": null,
   "source": [
    "#Complete the function below according to its docstring.\r\n",
    "def select_second(L):\r\n",
    "    \"\"\"Return the second element of the given list. If the list has no second\r\n",
    "    element, return None.\r\n",
    "    \"\"\"\r\n",
    "    if len(L) < 2:\r\n",
    "        return None\r\n",
    "    return L[1]\r\n",
    "\r\n"
   ],
   "outputs": [],
   "metadata": {}
  },
  {
   "cell_type": "code",
   "execution_count": null,
   "source": [
    "# You are analyzing sports teams.  Members of each team are stored in a list. The Coach is the first name in the list, the captain is the second name in the list, and other players are listed after that. \r\n",
    "# These lists are stored in another list, which starts with the best team and proceeds through the list to the worst team last.  Complete the function below to select the **captain** of the worst team.\r\n",
    "\r\n",
    "def losing_team_captain(teams):\r\n",
    "    \"\"\"Given a list of teams, where each team is a list of names, return the 2nd player (captain)\r\n",
    "    from the last listed team\r\n",
    "    \"\"\"\r\n",
    "    return teams[-1][1]\r\n",
    "\r\n",
    "        "
   ],
   "outputs": [],
   "metadata": {}
  },
  {
   "cell_type": "code",
   "execution_count": null,
   "source": [
    "# The next iteration of Mario Kart will feature an extra-infuriating new item, the *Purple Shell*. When used, it warps the last place racer into first place and the first place racer into last place. Complete the function below to implement the Purple Shell's effect.\r\n",
    "def purple_shell(racers):\r\n",
    "    \"\"\"Given a list of racers, set the first place racer (at the front of the list) to last\r\n",
    "    place and vice versa.\r\n",
    "    \r\n",
    "    >>> r = [\"Mario\", \"Bowser\", \"Luigi\"]\r\n",
    "    >>> purple_shell(r)\r\n",
    "    >>> r\r\n",
    "    [\"Luigi\", \"Bowser\", \"Mario\"]\r\n",
    "    \"\"\"\r\n",
    "    # One slick way to do the swap is x[0], x[-1] = x[-1], x[0].\r\n",
    "    temp = racers[0]\r\n",
    "    racers[0] = racers[-1]\r\n",
    "    racers[-1] = temp\r\n"
   ],
   "outputs": [],
   "metadata": {}
  },
  {
   "cell_type": "code",
   "execution_count": null,
   "source": [
    "#What are the lengths of the following lists? Fill in the variable `lengths` with your predictions. (Try to make a prediction for each list *without* just calling `len()` on it.)\r\n",
    "a = [1, 2, 3]\r\n",
    "b = [1, [2, 3]]\r\n",
    "c = []\r\n",
    "d = [1, 2, 3][1:]\r\n",
    "\r\n",
    "# Put your predictions in the list below. Lengths should contain 4 numbers, the\r\n",
    "# first being the length of a, the second being the length of b and so on.\r\n",
    "lengths = [3,2,0,2]\r\n",
    "\r\n",
    "# a: There are three items in this list. Nothing tricky yet.\r\n",
    "# b: The list [2, 3] counts as a single item. It has one item before it. So we have 2 items in the list\r\n",
    "# c: The empty list has 0 items\r\n",
    "# d: The expression is the same as the list [2, 3], which has length 2."
   ],
   "outputs": [],
   "metadata": {}
  },
  {
   "cell_type": "code",
   "execution_count": null,
   "source": [
    "# We're using lists to record people who attended our party and what order they arrived in. For example, the following list represents a party with 7 guests, in which Adela showed up first and Ford was the last to arrive:\r\n",
    "\r\n",
    "#     party_attendees = ['Adela', 'Fleda', 'Owen', 'May', 'Mona', 'Gilbert', 'Ford']\r\n",
    "\r\n",
    "# A guest is considered 'fashionably late' if they arrived after at least half of the party's guests. However, they must not be the very last guest (that's taking it too far). In the above example, Mona and Gilbert are the only guests who were fashionably late.\r\n",
    "\r\n",
    "# Complete the function below which takes a list of party attendees as well as a person, and tells us whether that person is fashionably late.\r\n",
    "\r\n",
    "def fashionably_late(arrivals, name):\r\n",
    "    \"\"\"Given an ordered list of arrivals to the party and a name, return whether the guest with that\r\n",
    "    name was fashionably late.\r\n",
    "        \"\"\"\r\n",
    "    order = arrivals.index(name)\r\n",
    "    return order >= len(arrivals) / 2 and order != len(arrivals) - 1\r\n",
    "\r\n"
   ],
   "outputs": [],
   "metadata": {}
  }
 ],
 "metadata": {
  "orig_nbformat": 4,
  "language_info": {
   "name": "python"
  }
 },
 "nbformat": 4,
 "nbformat_minor": 2
}