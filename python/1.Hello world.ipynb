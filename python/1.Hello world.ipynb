{
 "cells": [
  {
   "cell_type": "code",
   "execution_count": null,
   "source": [
    "# create a variable called color with an appropriate value on the line below\r\n",
    "# (Remember, strings in Python must be enclosed in 'single' or \"double\" quotes)\r\n",
    "color='blue'"
   ],
   "outputs": [],
   "metadata": {}
  },
  {
   "cell_type": "code",
   "execution_count": null,
   "source": [
    "########### Setup code - don't touch this part ######################\r\n",
    "# If you're curious, these are examples of lists. We'll talk about \r\n",
    "# them in depth a few lessons from now. For now, just know that they're\r\n",
    "# yet another type of Python object, like int or float.\r\n",
    "a = [1, 2, 3]\r\n",
    "b = [3, 2, 1]\r\n",
    "q2.store_original_ids()\r\n",
    "######################################################################\r\n",
    "\r\n",
    "# Your code goes here. Swap the values to which a and b refer.\r\n",
    "# If you get stuck, you can always uncomment one or both of the lines in\r\n",
    "# the next cell for a hint, or to peek at the solution.\r\n",
    "c=a\r\n",
    "a=b\r\n",
    "b=c\r\n",
    "print(a,b)\r\n",
    "\r\n",
    "######################################################################\r\n"
   ],
   "outputs": [],
   "metadata": {}
  },
  {
   "cell_type": "code",
   "execution_count": null,
   "source": [
    "(5 - 3 )// 2 #add paranthesis to get 1 as ans\r\n",
    "(8 - 3 )* (2 - (1 + 1)) # add paranthesis to get 0 as ans"
   ],
   "outputs": [],
   "metadata": {}
  },
  {
   "cell_type": "code",
   "execution_count": null,
   "source": [
    "# Variables representing the number of candies collected by alice, bob, and carol\r\n",
    "alice_candies = 121\r\n",
    "bob_candies = 77\r\n",
    "carol_candies = 109\r\n",
    "\r\n",
    "# Your code goes here! Replace the right-hand side of this assignment with an expression\r\n",
    "# involving alice_candies, bob_candies, and carol_candies\r\n",
    "#help them to smash the extra candies\r\n",
    "to_smash = (121+77+109)%3\r\n"
   ],
   "outputs": [],
   "metadata": {}
  }
 ],
 "metadata": {
  "orig_nbformat": 4,
  "language_info": {
   "name": "python",
   "version": "3.8.8rc1",
   "mimetype": "text/x-python",
   "codemirror_mode": {
    "name": "ipython",
    "version": 3
   },
   "pygments_lexer": "ipython3",
   "nbconvert_exporter": "python",
   "file_extension": ".py"
  },
  "kernelspec": {
   "name": "python3",
   "display_name": "Python 3.8.8rc1 64-bit"
  },
  "interpreter": {
   "hash": "3410afedb74081d81603511028deadddc25ba0f01c14e0cb891e2c2473f81884"
  }
 },
 "nbformat": 4,
 "nbformat_minor": 2
}