{
 "cells": [
  {
   "cell_type": "code",
   "execution_count": null,
   "source": [
    "x = True\r\n",
    "print(x)\r\n",
    "print(type(x))"
   ],
   "outputs": [],
   "metadata": {}
  },
  {
   "cell_type": "code",
   "execution_count": 1,
   "source": [
    "def can_run_for_president(age):\r\n",
    "    \"\"\"Can someone of the given age run for president in the US?\"\"\"\r\n",
    "    # The US Constitution says you must be at least 35 years old\r\n",
    "    return age >= 35\r\n",
    "\r\n",
    "print(\"Can a 19-year-old run for president?\", can_run_for_president(19))\r\n",
    "print(\"Can a 45-year-old run for president?\", can_run_for_president(45))"
   ],
   "outputs": [
    {
     "output_type": "stream",
     "name": "stdout",
     "text": [
      "Can a 19-year-old run for president? False\n",
      "Can a 45-year-old run for president? True\n"
     ]
    }
   ],
   "metadata": {}
  },
  {
   "cell_type": "code",
   "execution_count": null,
   "source": [
    "3.0 == 3\r\n",
    "'3' == 3"
   ],
   "outputs": [],
   "metadata": {}
  },
  {
   "cell_type": "code",
   "execution_count": null,
   "source": [
    "def is_odd(n):\r\n",
    "    return (n % 2) == 1\r\n",
    "\r\n",
    "print(\"Is 100 odd?\", is_odd(100))\r\n",
    "print(\"Is -1 odd?\", is_odd(-1))"
   ],
   "outputs": [],
   "metadata": {}
  },
  {
   "cell_type": "code",
   "execution_count": null,
   "source": [
    "def can_run_for_president(age, is_natural_born_citizen):\r\n",
    "    \"\"\"Can someone of the given age and citizenship status run for president in the US?\"\"\"\r\n",
    "    # The US Constitution says you must be a natural born citizen *and* at least 35 years old\r\n",
    "    return is_natural_born_citizen and (age >= 35)\r\n",
    "\r\n",
    "print(can_run_for_president(19, True))\r\n",
    "print(can_run_for_president(55, False))\r\n",
    "print(can_run_for_president(55, True))"
   ],
   "outputs": [],
   "metadata": {}
  },
  {
   "cell_type": "code",
   "execution_count": 2,
   "source": [
    "True or True and False"
   ],
   "outputs": [
    {
     "output_type": "execute_result",
     "data": {
      "text/plain": [
       "True"
      ]
     },
     "metadata": {},
     "execution_count": 2
    }
   ],
   "metadata": {}
  },
  {
   "cell_type": "code",
   "execution_count": null,
   "source": [
    "def inspect(x):\r\n",
    "    if x == 0:\r\n",
    "        print(x, \"is zero\")\r\n",
    "    elif x > 0:\r\n",
    "        print(x, \"is positive\")\r\n",
    "    elif x < 0:\r\n",
    "        print(x, \"is negative\")\r\n",
    "    else:\r\n",
    "        print(x, \"is unlike anything I've ever seen...\")\r\n",
    "\r\n",
    "inspect(0)\r\n",
    "inspect(-15)"
   ],
   "outputs": [],
   "metadata": {}
  },
  {
   "cell_type": "code",
   "execution_count": null,
   "source": [
    "def f(x):\r\n",
    "    if x > 0:\r\n",
    "        print(\"Only printed when x is positive; x =\", x)\r\n",
    "        print(\"Also only printed when x is positive; x =\", x)\r\n",
    "    print(\"Always printed, regardless of x's value; x =\", x)\r\n",
    "\r\n",
    "f(1)\r\n",
    "f(0)"
   ],
   "outputs": [],
   "metadata": {}
  },
  {
   "cell_type": "code",
   "execution_count": null,
   "source": [
    "print(bool(1)) # all numbers are treated as true, except 0\r\n",
    "print(bool(0))\r\n",
    "print(bool(\"asf\")) # all strings are treated as true, except the empty string \"\"\r\n",
    "print(bool(\"\"))\r\n",
    "# Generally empty sequences (strings, lists, and other types we've yet to see like lists and tuples)\r\n",
    "# are \"falsey\" and the rest are \"truthy\""
   ],
   "outputs": [],
   "metadata": {}
  },
  {
   "cell_type": "code",
   "execution_count": 3,
   "source": [
    "if 0:\r\n",
    "    print(0)\r\n",
    "elif \"spam\":\r\n",
    "    print(\"spam\")"
   ],
   "outputs": [
    {
     "output_type": "stream",
     "name": "stdout",
     "text": [
      "spam\n"
     ]
    }
   ],
   "metadata": {}
  },
  {
   "cell_type": "code",
   "execution_count": null,
   "source": [
    "#write a function to return -1 if negative,1 if positive,0 if 0.\r\n",
    "# Your code goes here. Define a function called 'sign'\r\n",
    "def sign(x):\r\n",
    "    if x<0:\r\n",
    "        return -1\r\n",
    "    elif x>0:\r\n",
    "        return 1\r\n",
    "    else:\r\n",
    "        return 0\r\n",
    "    \r\n"
   ],
   "outputs": [],
   "metadata": {}
  },
  {
   "cell_type": "code",
   "execution_count": 5,
   "source": [
    "def to_smash(total_candies):\r\n",
    "    \"\"\"Return the number of leftover candies that must be smashed after distributing\r\n",
    "    the given number of candies evenly between 3 friends.\r\n",
    "    \r\n",
    "    >>> to_smash(91)\r\n",
    "    1\r\n",
    "    \"\"\"\r\n",
    "    print(\"Splitting\", total_candies, \"candies\")\r\n",
    "    return total_candies % 3\r\n",
    "\r\n",
    "to_smash(91)\r\n",
    "#if no.of.candies=1\r\n",
    "to_smash(1)"
   ],
   "outputs": [
    {
     "output_type": "stream",
     "name": "stdout",
     "text": [
      "Splitting 91 candies\n",
      "Splitting 1 candies\n"
     ]
    },
    {
     "output_type": "execute_result",
     "data": {
      "text/plain": [
       "1"
      ]
     },
     "metadata": {},
     "execution_count": 5
    }
   ],
   "metadata": {}
  },
  {
   "cell_type": "code",
   "execution_count": 6,
   "source": [
    "#Modify the definition in the cell below to correct the grammar of our print statement. (If there's only one candy, we should use the singular \"candy\" instead of the plural \"candie\r\n",
    "def to_smash(total_candies):\r\n",
    "    \"\"\"Return the number of leftover candies that must be smashed after distributing\r\n",
    "    the given number of candies evenly between 3 friends.\r\n",
    "    \r\n",
    "    >>> to_smash(91)\r\n",
    "    1\r\n",
    "    \"\"\"\r\n",
    "    if total_candies==1:\r\n",
    "        print(\"Splitting\", total_candies, \"candy\")\r\n",
    "    else:\r\n",
    "        print(\"Splitting\", total_candies, \"candies\")       \r\n",
    "    \r\n",
    "    return total_candies % 3\r\n",
    "\r\n",
    "to_smash(91)\r\n",
    "to_smash(1)\r\n",
    "\r\n",
    "#or use shorthand of it like\r\n",
    "#print(\"Splitting\", total_candies, \"candy\" if total_candies == 1 else \"candies\")\r\n"
   ],
   "outputs": [
    {
     "output_type": "stream",
     "name": "stdout",
     "text": [
      "Splitting 91 candies\n",
      "Splitting 1 candy\n"
     ]
    },
    {
     "output_type": "execute_result",
     "data": {
      "text/plain": [
       "1"
      ]
     },
     "metadata": {},
     "execution_count": 6
    }
   ],
   "metadata": {}
  },
  {
   "cell_type": "code",
   "execution_count": null,
   "source": [
    "# In the tutorial, we talked about deciding whether we're prepared for the weather. I said that I'm safe from today's weather if...\r\n",
    "# - I have an umbrella...\r\n",
    "# - or if the rain isn't too heavy and I have a hood...\r\n",
    "# - otherwise, I'm still fine unless it's raining *and* it's a workday\r\n",
    "\r\n",
    "# The function below uses our first attempt at turning this logic into a Python expression. I claimed that there was a bug in that code. Can you find it?\r\n",
    "\r\n",
    "# To prove that `prepared_for_weather` is buggy, come up with a set of inputs where either:\r\n",
    "# - the function returns `False` (but should have returned `True`), or\r\n",
    "# - the function returned `True` (but should have returned `False`).\r\n",
    "\r\n",
    "\r\n",
    "\r\n",
    "\r\n",
    "def prepared_for_weather(have_umbrella, rain_level, have_hood, is_workday):\r\n",
    "    # Don't change this code. Our goal is just to find the bug, not fix it!\r\n",
    "    return have_umbrella or rain_level < 5 and have_hood or not rain_level > 0 and is_workday\r\n",
    "\r\n",
    "# Change the values of these inputs so they represent a case where prepared_for_weather\r\n",
    "# returns the wrong answer.\r\n",
    "have_umbrella = False\r\n",
    "rain_level = 0.0\r\n",
    "have_hood = False\r\n",
    "is_workday = False\r\n",
    "\r\n",
    "# Check what the function returns given the current values of the variables above\r\n",
    "actual = prepared_for_weather(have_umbrella, rain_level, have_hood, is_workday)\r\n",
    "print(actual)\r\n",
    "\r\n",
    "\r\n",
    " \r\n",
    "# Clearly we're prepared for the weather in this case. It's not raining. Not only that, it's not a workday, so we don't even need to leave the house! But our function will return False on these inputs.\r\n",
    "\r\n",
    "# The key problem is that Python implictly parenthesizes the last part as:\r\n",
    "\r\n",
    "# (not (rain_level > 0)) and is_workday\r\n",
    "# Whereas what we were trying to express would look more like:\r\n",
    "\r\n",
    "# not (rain_level > 0 and is_workday)"
   ],
   "outputs": [],
   "metadata": {}
  },
  {
   "cell_type": "code",
   "execution_count": null,
   "source": [
    "# The function `is_negative` below is implemented correctly - it returns True if the given number is negative and False otherwise.\r\n",
    "\r\n",
    "# However, it's more verbose than it needs to be. We can actually reduce the number of lines of code in this function by *75%* while keeping the same behaviour. \r\n",
    "\r\n",
    "# See if you can come up with an equivalent body that uses just **one line** of code, and put it in the function `concise_is_negative`. (HINT: you don't even need Python's ternary syntax)\r\n",
    "def is_negative(number):\r\n",
    "    if number < 0:\r\n",
    "        return True\r\n",
    "    else:\r\n",
    "        return False\r\n",
    "\r\n",
    "def concise_is_negative(number):\r\n",
    "    return number < 0 \r\n",
    "    # Your code goes here (try to keep it to one line!)\r\n",
    "\r\n",
    "# instead of pass above\r\n"
   ],
   "outputs": [],
   "metadata": {}
  },
  {
   "cell_type": "code",
   "execution_count": null,
   "source": [
    "#The boolean variables `ketchup`, `mustard` and `onion` represent whether a customer wants a particular topping on their hot dog. We want to implement a number of boolean functions that correspond to some yes-or-no questions about the customer's order. For example:\r\n",
    "\r\n",
    "def onionless(ketchup, mustard, onion):\r\n",
    "    \"\"\"Return whether the customer doesn't want onions.\r\n",
    "    \"\"\"\r\n",
    "    return not onion\r\n",
    "def wants_all_toppings(ketchup, mustard, onion):\r\n",
    "    \"\"\"Return whether the customer wants \"the works\" (all 3 toppings)\r\n",
    "    \"\"\"\r\n",
    "    return ketchup and mustard and onion\r\n"
   ],
   "outputs": [],
   "metadata": {}
  },
  {
   "cell_type": "code",
   "execution_count": null,
   "source": [
    "#For the next function, fill in the body to match the English description in the docstring. \r\n",
    "def wants_plain_hotdog(ketchup, mustard, onion):\r\n",
    "    \"\"\"Return whether the customer wants a plain hot dog with no toppings.\r\n",
    "    \"\"\"\r\n",
    "    return not ketchup and not mustard and not onion\r\n",
    "\r\n",
    "#ANs OR\r\n",
    "# return not (ketchup or mustard or onion)\r\n"
   ],
   "outputs": [],
   "metadata": {}
  },
  {
   "cell_type": "code",
   "execution_count": null,
   "source": [
    "# 5c.\r\n",
    "\r\n",
    "#You know what to do: for the next function, fill in the body to match the English description in the docstring.\r\n",
    "def exactly_one_sauce(ketchup, mustard, onion):\r\n",
    "    \"\"\"Return whether the customer wants either ketchup or mustard, but not both.\r\n",
    "    (You may be familiar with this operation under the name \"exclusive or\")\r\n",
    "    \"\"\"\r\n",
    "    pass\r\n",
    "\r\n",
    "#ANS\r\n",
    "#return (ketchup and not mustard) or (mustard and not ketchup)"
   ],
   "outputs": [],
   "metadata": {}
  },
  {
   "cell_type": "code",
   "execution_count": null,
   "source": [
    "# We’ve seen that calling `bool()` on an integer returns `False` if it’s equal to 0 and `True` otherwise. What happens if we call `int()` on a bool? Try it out in the notebook cell below.\r\n",
    "\r\n",
    "# Can you take advantage of this to write a succinct function that corresponds to the English sentence \"does the customer want exactly one topping?\"?\r\n",
    "def exactly_one_topping(ketchup, mustard, onion):\r\n",
    "    \"\"\"Return whether the customer wants exactly one of the three available toppings\r\n",
    "    on their hot dog.\r\n",
    "    \r\n",
    "    \"\"\"\r\n",
    "    return (int(ketchup) + int(mustard) + int(onion)) == 1\r\n",
    "\r\n",
    "\r\n",
    "#ANS #or\r\n",
    "#return (ketchup + mustard + onion) == 1"
   ],
   "outputs": [],
   "metadata": {}
  }
 ],
 "metadata": {
  "orig_nbformat": 4,
  "language_info": {
   "name": "python",
   "version": "3.8.8",
   "mimetype": "text/x-python",
   "codemirror_mode": {
    "name": "ipython",
    "version": 3
   },
   "pygments_lexer": "ipython3",
   "nbconvert_exporter": "python",
   "file_extension": ".py"
  },
  "kernelspec": {
   "name": "python3",
   "display_name": "Python 3.8.8rc1 64-bit"
  },
  "interpreter": {
   "hash": "3410afedb74081d81603511028deadddc25ba0f01c14e0cb891e2c2473f81884"
  }
 },
 "nbformat": 4,
 "nbformat_minor": 2
}