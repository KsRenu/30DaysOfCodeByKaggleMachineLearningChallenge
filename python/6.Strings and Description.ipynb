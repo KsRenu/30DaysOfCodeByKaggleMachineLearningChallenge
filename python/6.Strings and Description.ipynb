{
 "cells": [
  {
   "cell_type": "code",
   "execution_count": 1,
   "source": [
    "planet = 'Pluto'\r\n",
    "[char+'! ' for char in planet]"
   ],
   "outputs": [
    {
     "output_type": "execute_result",
     "data": {
      "text/plain": [
       "['P! ', 'l! ', 'u! ', 't! ', 'o! ']"
      ]
     },
     "metadata": {},
     "execution_count": 1
    }
   ],
   "metadata": {}
  },
  {
   "cell_type": "code",
   "execution_count": 11,
   "source": [
    "claim = \"Pluto is a planet!\"\r\n",
    "claim.upper()\r\n",
    "claim.lower()\r\n",
    "claim.index('plan')\r\n",
    "claim.startswith(planet)\r\n",
    "claim.endswith('dwarf planet')\r\n",
    "# Going between strings and lists: .split() and .join()\r\n",
    "# str.split() turns a string into a list of smaller strings, breaking on whitespace by default. This is super useful for taking you from one big string to a list of words.\r\n",
    "\r\n",
    "words = claim.split()\r\n",
    "words\r\n",
    "datestr = '1956-01-31'\r\n",
    "year, month, day = datestr.split('-')\r\n",
    "#str.join() takes us in the other direction, sewing a list of strings up into one long string, using the string it was called on as a separator\r\n",
    "'/'.join([month, day, year])\r\n",
    "# Yes, we can put unicode characters right in our string literals :)\r\n",
    "' 👏 '.join([word.upper() for word in words])\r\n",
    "#concatenate\r\n",
    "planet + ', we miss you.'\r\n",
    "position = 9\r\n",
    "planet + \", you'll always be the \" + str(position) + \"th planet to me.\"\r\n",
    "\"{}, you'll always be the {}th planet to me.\".format(planet, position)\r\n",
    "#\"format string\", where the Python values we want to insert are represented with {} placeholders.\r\n",
    "\r\n"
   ],
   "outputs": [
    {
     "output_type": "execute_result",
     "data": {
      "text/plain": [
       "\"Pluto, you'll always be the 9th planet to me.\""
      ]
     },
     "metadata": {},
     "execution_count": 11
    }
   ],
   "metadata": {}
  },
  {
   "cell_type": "code",
   "execution_count": 12,
   "source": [
    "pluto_mass = 1.303 * 10**22\r\n",
    "earth_mass = 5.9722 * 10**24\r\n",
    "population = 52910390\r\n",
    "#         2 decimal points   3 decimal points, format as percent     separate with commas\r\n",
    "\"{} weighs about {:.2} kilograms ({:.3%} of Earth's mass). It is home to {:,} Plutonians.\".format(\r\n",
    "    planet, pluto_mass, pluto_mass / earth_mass, population,\r\n",
    ")"
   ],
   "outputs": [
    {
     "output_type": "execute_result",
     "data": {
      "text/plain": [
       "\"Pluto weighs about 1.3e+22 kilograms (0.218% of Earth's mass). It is home to 52,910,390 Plutonians.\""
      ]
     },
     "metadata": {},
     "execution_count": 12
    }
   ],
   "metadata": {}
  },
  {
   "cell_type": "code",
   "execution_count": null,
   "source": [
    "# Referring to format() arguments by index, starting from 0\r\n",
    "s = \"\"\"Pluto's a {0}.\r\n",
    "No, it's a {1}.\r\n",
    "{0}!\r\n",
    "{1}!\"\"\".format('planet', 'dwarf planet')\r\n",
    "print(s)"
   ],
   "outputs": [],
   "metadata": {}
  },
  {
   "cell_type": "code",
   "execution_count": 21,
   "source": [
    "#DICTIONARIES.\r\n",
    "numbers = {'one':1, 'two':2, 'three':3}\r\n",
    "numbers['one']\r\n",
    "numbers['eleven'] = 11\r\n",
    "numbers\r\n",
    "numbers['one'] = 'Pluto'\r\n",
    "numbers\r\n",
    "#Python has dictionary comprehensions with a syntax similar to the list comprehensions we saw in the previous tutorial.\r\n",
    "planets = ['Mercury', 'Venus', 'Earth', 'Mars', 'Jupiter', 'Saturn', 'Uranus', 'Neptune']\r\n",
    "planet_to_initial = {planet: planet[0] for planet in planets}\r\n",
    "planet_to_initial\r\n",
    "#The in operator tells us whether something is a key in the dictionary\r\n",
    "'Saturn' in planet_to_initial\r\n",
    "'Betelgeuse' in planet_to_initial\r\n",
    "for k in numbers:\r\n",
    "    print(\"{} = {}\".format(k, numbers[k]))\r\n",
    "' '.join(sorted(planet_to_initial.values()))# Get all the initials, sort them alphabetically, and put them in a space-separated string\r\n",
    "for planet, initial in planet_to_initial.items():\r\n",
    "    print(\"{} begins with \\\"{}\\\"\".format(planet.rjust(10), initial))\r\n"
   ],
   "outputs": [
    {
     "output_type": "stream",
     "name": "stdout",
     "text": [
      "one = Pluto\n",
      "two = 2\n",
      "three = 3\n",
      "eleven = 11\n",
      "   Mercury begins with \"M\"\n",
      "     Venus begins with \"V\"\n",
      "     Earth begins with \"E\"\n",
      "      Mars begins with \"M\"\n",
      "   Jupiter begins with \"J\"\n",
      "    Saturn begins with \"S\"\n",
      "    Uranus begins with \"U\"\n",
      "   Neptune begins with \"N\"\n"
     ]
    }
   ],
   "metadata": {}
  },
  {
   "cell_type": "code",
   "execution_count": null,
   "source": [
    "a = \"\"\r\n",
    "length = 0\r\n",
    "#The empty string has length zero. Note that the empty string is also the only string that Python considers as False when converting to boolean.\r\n",
    "c = 'it\\'s ok'\r\n",
    "length = 7\r\n",
    "#Even though we use different syntax to create it, the string c is identical to b. In particular, note that the backslash is not part of the string, so it doesn't contribute to its length.\r\n",
    "e = '\\n'\r\n",
    "length = 1\r\n",
    "#The newline character is just a single character! (Even though we represent it to Python using a combination of two characters.)"
   ],
   "outputs": [],
   "metadata": {}
  },
  {
   "cell_type": "code",
   "execution_count": null,
   "source": [
    "# There is a saying that \"Data scientists spend 80% of their time cleaning data, and 20% of their time complaining about cleaning data.\" Let's see if you can write a function to help clean US zip code data. Given a string, it should return whether or not that string represents a valid zip code. For our purposes, a valid zip code is any string consisting of exactly 5 digits.\r\n",
    "\r\n",
    "# HINT: `str` has a method that will be useful here. Use `help(str)` to review a list of string methods.\r\n",
    "def is_valid_zip(zip_str):\r\n",
    "    \r\n",
    "    \"\"\"Returns whether the input string is a valid (5 digit) zip code\r\n",
    "    \"\"\"    \r\n",
    "    return len(zip_str) == 5 and zip_str.isdigit()"
   ],
   "outputs": [],
   "metadata": {}
  },
  {
   "cell_type": "code",
   "execution_count": 4,
   "source": [
    "def word_search(documents, keyword):\r\n",
    "    \r\n",
    "    \"\"\"\r\n",
    "    Takes a list of documents (each document is a string) and a keyword. \r\n",
    "    Returns list of the index values into the original list for all documents \r\n",
    "    containing the keyword.\r\n",
    "\r\n",
    "    Example:\r\n",
    "    doc_list = [\"The Learn Python Challenge Casino.\", \"They bought a car\", \"Casinoville\"]\r\n",
    "    >>> word_search(doc_list, 'casino')\r\n",
    "    >>> [0]\r\n",
    "    \"\"\"\r\n",
    "    # list to hold the indices of matching documents\r\n",
    "    indices = [] \r\n",
    "    # Iterate through the indices (i) and elements (doc) of documents\r\n",
    "    for i, doc in enumerate(documents):\r\n",
    "        # Split the string doc into a list of words (according to whitespace)\r\n",
    "        tokens = doc.split()\r\n",
    "        \r\n",
    "        # Make a transformed list where we 'normalize' each word to facilitate matching.\r\n",
    "        # Periods and commas are removed from the end of each word, and it's set to all lowercase.\r\n",
    "        normalized = [token.strip('.,').lower() for token in tokens]\r\n",
    "        # Is there a match? If so, update the list of matching indices.\r\n",
    "        if keyword.lower() in normalized:\r\n",
    "            indices.append(i)\r\n",
    "    return indices\r\n",
    "word_search(['THE LEARN PYTHON CHALLENGE CASINO', 'THEY BOUGHT A CAR, AND A HORSE', 'CASINOVILLE?'],'casino')"
   ],
   "outputs": [
    {
     "output_type": "execute_result",
     "data": {
      "text/plain": [
       "[0]"
      ]
     },
     "metadata": {},
     "execution_count": 4
    }
   ],
   "metadata": {}
  },
  {
   "cell_type": "code",
   "execution_count": null,
   "source": [
    "# Now the researcher wants to supply multiple keywords to search for. Complete the function below to help her.\r\n",
    "# (You're encouraged to use the `word_search` function you just wrote when implementing this function. Reusing code in this way makes your programs more robust and readable - and it saves typing!)\r\n",
    "\r\n",
    "\r\n",
    "def multi_word_search(documents, keywords):\r\n",
    "    \"\"\"\r\n",
    "    Takes list of documents (each document is a string) and a list of keywords.  \r\n",
    "    Returns a dictionary where each key is a keyword, and the value is a list of indices\r\n",
    "    (from doc_list) of the documents containing that keyword\r\n",
    "\r\n",
    "    >>> doc_list = [\"The Learn Python Challenge Casino.\", \"They bought a car and a casino\", \"Casinoville\"]\r\n",
    "    >>> keywords = ['casino', 'they']\r\n",
    "    >>> multi_word_search(doc_list, keywords)\r\n",
    "    {'casino': [0, 1], 'they': [1]}\r\n",
    "    \"\"\"\r\n",
    "    #def multi_word_search(documents, keywords):\r\n",
    "    keyword_to_indices = {}\r\n",
    "    for keyword in keywords:\r\n",
    "        keyword_to_indices[keyword] = word_search(documents, keyword)\r\n",
    "    return keyword_to_indices\r\n",
    "\r\n",
    "    "
   ],
   "outputs": [],
   "metadata": {}
  }
 ],
 "metadata": {
  "orig_nbformat": 4,
  "language_info": {
   "name": "python",
   "version": "3.8.8rc1",
   "mimetype": "text/x-python",
   "codemirror_mode": {
    "name": "ipython",
    "version": 3
   },
   "pygments_lexer": "ipython3",
   "nbconvert_exporter": "python",
   "file_extension": ".py"
  },
  "kernelspec": {
   "name": "python3",
   "display_name": "Python 3.8.8rc1 64-bit"
  },
  "interpreter": {
   "hash": "3410afedb74081d81603511028deadddc25ba0f01c14e0cb891e2c2473f81884"
  }
 },
 "nbformat": 4,
 "nbformat_minor": 2
}