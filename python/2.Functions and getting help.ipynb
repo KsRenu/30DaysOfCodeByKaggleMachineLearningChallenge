{
 "cells": [
  {
   "cell_type": "code",
   "execution_count": null,
   "source": [
    "def round_to_two_places(num):\r\n",
    "    \"\"\"Return the given number rounded to two decimal places. \r\n",
    "    \r\n",
    "    >>> round_to_two_places(3.14159)\r\n",
    "    3.14\r\n",
    "    \"\"\"\r\n",
    "    return round(num,2)\r\n",
    "    # Replace this body with your own code.\r\n",
    "    # (\"pass\" is a keyword that does literally nothing. We used it as a placeholder\r\n",
    "    # because after we begin a code block, Python requires at least one line of code)\r\n",
    "    #pass"
   ],
   "outputs": [],
   "metadata": {}
  },
  {
   "cell_type": "code",
   "execution_count": 4,
   "source": [
    "#round funct with negative ndigits\r\n",
    "help(round) #says about the function\r\n",
    "n=489.23489\r\n",
    "print(round(n,-1)) #rounds to the nearest 10\r\n",
    "print(round(n,-2)) #rounds to the nearest 100"
   ],
   "outputs": [
    {
     "output_type": "stream",
     "name": "stdout",
     "text": [
      "Help on built-in function round in module builtins:\n",
      "\n",
      "round(number, ndigits=None)\n",
      "    Round a number to a given precision in decimal digits.\n",
      "    \n",
      "    The return value is an integer if ndigits is omitted or None.  Otherwise\n",
      "    the return value has the same type as the number.  ndigits may be negative.\n",
      "\n",
      "490.0\n",
      "500.0\n"
     ]
    }
   ],
   "metadata": {}
  },
  {
   "cell_type": "code",
   "execution_count": 6,
   "source": [
    "def to_smash(total_candies,n_friends):\r\n",
    "    \"\"\"Return the number of leftover candies that must be smashed after distributing\r\n",
    "    the given number of candies evenly between 3 friends. using 2 argument function\r\n",
    "    \r\n",
    "    >>> to_smash(91)\r\n",
    "    1\r\n",
    "    \"\"\"\r\n",
    "    return total_candies % n_friends\r\n",
    "to_smash(10,3)\r\n"
   ],
   "outputs": [
    {
     "output_type": "execute_result",
     "data": {
      "text/plain": [
       "1"
      ]
     },
     "metadata": {},
     "execution_count": 6
    }
   ],
   "metadata": {}
  },
  {
   "cell_type": "code",
   "execution_count": 9,
   "source": [
    "#predict the error\r\n",
    "#ruound_to_two_places(9.9999)\r\n",
    "print(round(9.9999,2))\r\n",
    "\r\n",
    "# x = -10\r\n",
    "# y = 5\r\n",
    "# # Which of the two variables above has the smallest absolute value?\r\n",
    "# smallest_abs = min(abs(x, y))\r\n",
    "x=-10\r\n",
    "y=5\r\n",
    "smallest_abs=min(x,y)\r\n",
    "print(smallest_abs)\r\n",
    "\r\n",
    "\r\n",
    "# def f(x):\r\n",
    "#     y = abs(x)\r\n",
    "# return y\r\n",
    "\r\n",
    "# print(f(5))\r\n",
    "def f(x):\r\n",
    "    y = abs(x)\r\n",
    "    return y\r\n",
    "\r\n",
    "print(f(5))"
   ],
   "outputs": [
    {
     "output_type": "stream",
     "name": "stdout",
     "text": [
      "10.0\n",
      "-10\n"
     ]
    }
   ],
   "metadata": {}
  }
 ],
 "metadata": {
  "orig_nbformat": 4,
  "language_info": {
   "name": "python",
   "version": "3.8.8rc1",
   "mimetype": "text/x-python",
   "codemirror_mode": {
    "name": "ipython",
    "version": 3
   },
   "pygments_lexer": "ipython3",
   "nbconvert_exporter": "python",
   "file_extension": ".py"
  },
  "kernelspec": {
   "name": "python3",
   "display_name": "Python 3.8.8rc1 64-bit"
  },
  "interpreter": {
   "hash": "3410afedb74081d81603511028deadddc25ba0f01c14e0cb891e2c2473f81884"
  }
 },
 "nbformat": 4,
 "nbformat_minor": 2
}