{
 "cells": [
  {
   "cell_type": "code",
   "execution_count": 3,
   "source": [
    "# Loops\r\n",
    "# Loops are a way to repeatedly execute some code. Here's an example:\r\n",
    "\r\n",
    "planets = ['Mercury', 'Venus', 'Earth', 'Mars', 'Jupiter', 'Saturn', 'Uranus', 'Neptune']\r\n",
    "for planet in planets:\r\n",
    "    print(planet, end=' ') # print all on same line"
   ],
   "outputs": [
    {
     "output_type": "stream",
     "name": "stdout",
     "text": [
      "Mercury Venus Earth Mars Jupiter Saturn Uranus Neptune "
     ]
    }
   ],
   "metadata": {}
  },
  {
   "cell_type": "code",
   "execution_count": 4,
   "source": [
    "multiplicands = (2, 2, 2, 3, 3, 5)\r\n",
    "product = 1\r\n",
    "for mult in multiplicands:\r\n",
    "    product = product * mult\r\n",
    "product\r\n"
   ],
   "outputs": [
    {
     "output_type": "execute_result",
     "data": {
      "text/plain": [
       "360"
      ]
     },
     "metadata": {},
     "execution_count": 4
    }
   ],
   "metadata": {}
  },
  {
   "cell_type": "code",
   "execution_count": 5,
   "source": [
    "#You can even loop through each character in a string:\r\n",
    "s = 'steganograpHy is the practicE of conceaLing a file, message, image, or video within another fiLe, message, image, Or video.'\r\n",
    "msg = ''\r\n",
    "# print all the uppercase letters in s, one at a time\r\n",
    "for char in s:\r\n",
    "    if char.isupper():\r\n",
    "        print(char, end='')"
   ],
   "outputs": [
    {
     "output_type": "stream",
     "name": "stdout",
     "text": [
      "HELLO"
     ]
    }
   ],
   "metadata": {}
  },
  {
   "cell_type": "code",
   "execution_count": 6,
   "source": [
    "# range()¶\r\n",
    "# range() is a function that returns a sequence of numbers. It turns out to be very useful for writing loops.\r\n",
    "\r\n",
    "# For example, if we want to repeat some action 5 times:\r\n",
    "\r\n",
    "for i in range(5):\r\n",
    "    print(\"Doing important work. i =\", i)"
   ],
   "outputs": [
    {
     "output_type": "stream",
     "name": "stdout",
     "text": [
      "Doing important work. i = 0\n",
      "Doing important work. i = 1\n",
      "Doing important work. i = 2\n",
      "Doing important work. i = 3\n",
      "Doing important work. i = 4\n"
     ]
    }
   ],
   "metadata": {}
  },
  {
   "cell_type": "code",
   "execution_count": 7,
   "source": [
    "# while loops\r\n",
    "# The other type of loop in Python is a while loop, which iterates until some condition is met:\r\n",
    "i = 0\r\n",
    "while i < 10:\r\n",
    "    print(i, end=' ')\r\n",
    "    i += 1 # increase the value of i by 1\r\n",
    "\r\n",
    "#The argument of the while loop is evaluated as a boolean statement, and the loop is executed until the statement evaluates to False."
   ],
   "outputs": [
    {
     "output_type": "stream",
     "name": "stdout",
     "text": [
      "0 1 2 3 4 5 6 7 8 9 "
     ]
    }
   ],
   "metadata": {}
  },
  {
   "cell_type": "code",
   "execution_count": 8,
   "source": [
    "# List comprehensions\r\n",
    "# List comprehensions are one of Python's most beloved and unique features. The easiest way to understand them is probably to just look at a few examples:\r\n",
    "squares = [n**2 for n in range(10)]\r\n",
    "squares\r\n",
    "#Here's how we would do the same thing without a list comprehension:\r\n",
    "squares = []\r\n",
    "for n in range(10):\r\n",
    "    squares.append(n**2)\r\n",
    "squares"
   ],
   "outputs": [
    {
     "output_type": "execute_result",
     "data": {
      "text/plain": [
       "[0, 1, 4, 9, 16, 25, 36, 49, 64, 81]"
      ]
     },
     "metadata": {},
     "execution_count": 8
    }
   ],
   "metadata": {}
  },
  {
   "cell_type": "code",
   "execution_count": 9,
   "source": [
    "#We can also add an if condition:\r\n",
    "short_planets = [planet for planet in planets if len(planet) < 6]\r\n",
    "short_planets"
   ],
   "outputs": [
    {
     "output_type": "execute_result",
     "data": {
      "text/plain": [
       "['Venus', 'Earth', 'Mars']"
      ]
     },
     "metadata": {},
     "execution_count": 9
    }
   ],
   "metadata": {}
  },
  {
   "cell_type": "code",
   "execution_count": 10,
   "source": [
    "# str.upper() returns an all-caps version of a string\r\n",
    "loud_short_planets = [planet.upper() + '!' for planet in planets if len(planet) < 6]\r\n",
    "loud_short_planets\r\n",
    "#you might find the structure clearer when it's split up over 3 lines:\r\n",
    "\r\n",
    "[\r\n",
    "    planet.upper() + '!' \r\n",
    "    for planet in planets \r\n",
    "    if len(planet) < 6\r\n",
    "]"
   ],
   "outputs": [
    {
     "output_type": "execute_result",
     "data": {
      "text/plain": [
       "['VENUS!', 'EARTH!', 'MARS!']"
      ]
     },
     "metadata": {},
     "execution_count": 10
    }
   ],
   "metadata": {}
  },
  {
   "cell_type": "code",
   "execution_count": 11,
   "source": [
    "[32 for planet in planets]"
   ],
   "outputs": [
    {
     "output_type": "execute_result",
     "data": {
      "text/plain": [
       "[32, 32, 32, 32, 32, 32, 32, 32]"
      ]
     },
     "metadata": {},
     "execution_count": 11
    }
   ],
   "metadata": {}
  },
  {
   "cell_type": "code",
   "execution_count": null,
   "source": [
    "#ompare the following two cells of code that do the same thing.\r\n",
    " \r\n",
    "def count_negatives(nums):\r\n",
    "    \"\"\"Return the number of negative numbers in the given list.\r\n",
    "    \r\n",
    "    >>> count_negatives([5, -1, -2, 0, 3])\r\n",
    "    2\r\n",
    "    \"\"\"\r\n",
    "    n_negative = 0\r\n",
    "    for num in nums:\r\n",
    "        if num < 0:\r\n",
    "            n_negative = n_negative + 1\r\n",
    "    return n_negative"
   ],
   "outputs": [],
   "metadata": {}
  },
  {
   "cell_type": "code",
   "execution_count": null,
   "source": [
    "#Here's a solution using a list comprehension:\r\n",
    "\r\n",
    "def count_negatives(nums):\r\n",
    "    return len([num for num in nums if num < 0])"
   ],
   "outputs": [],
   "metadata": {}
  },
  {
   "cell_type": "code",
   "execution_count": null,
   "source": [
    "#another solution\r\n",
    "def count_negatives(nums):\r\n",
    "    # Reminder: in the \"booleans and conditionals\" exercises, we learned about a quirk of \r\n",
    "    # Python where it calculates something like True + True + False + True to be equal to 3.\r\n",
    "    return sum([num < 0 for num in nums])"
   ],
   "outputs": [],
   "metadata": {}
  },
  {
   "cell_type": "code",
   "execution_count": 19,
   "source": [
    "# Have you ever felt debugging involved a bit of luck? The following program has a bug. Try to identify the bug and fix it.\r\n",
    "def has_lucky_number(nums):\r\n",
    "\r\n",
    "    \"\"\"Return whether the given list of numbers is lucky. A lucky list contains\r\n",
    "    at least one number divisible by 7.\r\n",
    "    \"\"\"\r\n",
    "    for num in nums:\r\n",
    "        if num%7==0:\r\n",
    "            return True\r\n",
    "        else:\r\n",
    "            return False\r\n",
    "\r\n",
    "has_lucky_number([1,7,7,7,7,7,7])\r\n"
   ],
   "outputs": [
    {
     "output_type": "stream",
     "name": "stdout",
     "text": [
      "False\n"
     ]
    },
    {
     "output_type": "execute_result",
     "data": {
      "text/plain": [
       "True"
      ]
     },
     "metadata": {},
     "execution_count": 19
    }
   ],
   "metadata": {}
  },
  {
   "cell_type": "code",
   "execution_count": 32,
   "source": [
    "#Ans\r\n",
    "def has_lucky_number(nums):\r\n",
    "    for num in nums:\r\n",
    "        if num % 7 == 0:\r\n",
    "            return True\r\n",
    "    \r\n",
    "    return False\r\n"
   ],
   "outputs": [],
   "metadata": {}
  },
  {
   "cell_type": "code",
   "execution_count": null,
   "source": [
    "#OR\r\n",
    "def has_lucky_number(nums):\r\n",
    "    return any([num % 7 == 0 for num in nums])"
   ],
   "outputs": [],
   "metadata": {}
  },
  {
   "cell_type": "code",
   "execution_count": 26,
   "source": [
    "def elementwise_greater_than(L, thresh):\r\n",
    "    \"\"\"Return a list with the same length as L, where the value at index i is \r\n",
    "    True if L[i] is greater than thresh, and False otherwise.\r\n",
    "    \r\n",
    "    >>> elementwise_greater_than([1, 2, 3, 4], 2)\r\n",
    "    [False, False, True, True]\r\n",
    "    \"\"\"\r\n",
    "    l=[]\r\n",
    "    for i in L:\r\n",
    "        if i<thresh:\r\n",
    "            l.append(False)\r\n",
    "        elif i==thresh:\r\n",
    "            l.append(False)\r\n",
    "        elif i>thresh:\r\n",
    "            l.append(True)\r\n",
    "    print(l)\r\n",
    "elementwise_greater_than([1,2,3,4],2)"
   ],
   "outputs": [
    {
     "output_type": "stream",
     "name": "stdout",
     "text": [
      "[False, False, True, True]\n"
     ]
    }
   ],
   "metadata": {}
  },
  {
   "cell_type": "code",
   "execution_count": 27,
   "source": [
    "#or\r\n",
    "def elementwise_greater_than(L, thresh):\r\n",
    "    res = []\r\n",
    "    for ele in L:\r\n",
    "        res.append(ele > thresh)\r\n",
    "    return res"
   ],
   "outputs": [
    {
     "output_type": "execute_result",
     "data": {
      "text/plain": [
       "[False, False, True, True]"
      ]
     },
     "metadata": {},
     "execution_count": 27
    }
   ],
   "metadata": {}
  },
  {
   "cell_type": "code",
   "execution_count": 43,
   "source": [
    "#or\r\n",
    "def elementwise_greater_than(L, thresh):\r\n",
    "    return [ele > thresh for ele in L]\r\n",
    "elementwise_greater_than([1,2,3,4],2)"
   ],
   "outputs": [
    {
     "output_type": "execute_result",
     "data": {
      "text/plain": [
       "[False, False, True, True]"
      ]
     },
     "metadata": {},
     "execution_count": 43
    }
   ],
   "metadata": {}
  },
  {
   "cell_type": "code",
   "execution_count": 44,
   "source": [],
   "outputs": [
    {
     "output_type": "execute_result",
     "data": {
      "text/plain": [
       "[True, False, False, False, False, False, True]"
      ]
     },
     "metadata": {},
     "execution_count": 44
    }
   ],
   "metadata": {}
  },
  {
   "cell_type": "code",
   "execution_count": 65,
   "source": [
    "def menu_is_boring(meals):\r\n",
    "    \"\"\"Given a list of meals served over some period of time, return True if the\r\n",
    "    same meal has ever been served two days in a row, and False otherwise.\r\n",
    "    \"\"\"\r\n",
    "    for i in range(len(meals)-1):\r\n",
    "        if meals[i] == meals[i+1]:\r\n",
    "            return True\r\n",
    "    return False\r\n",
    "    "
   ],
   "outputs": [],
   "metadata": {}
  },
  {
   "cell_type": "code",
   "execution_count": null,
   "source": [
    "# On average, how much money can you expect to gain (or lose) every time you play the machine?  The casino keeps it a secret, but you can estimate the average value of each pull using a technique called the **Monte Carlo method**. To estimate the average outcome, we simulate the scenario many times, and return the average result.\r\n",
    "\r\n",
    "# Complete the following function to calculate the average value per play of the slot machine.\r\n",
    "def estimate_average_slot_payout(n_runs):\r\n",
    "    \"\"\"Run the slot machine n_runs times and return the average net profit per run.\r\n",
    "    Example calls (note that return value is nondeterministic!):\r\n",
    "    >>> estimate_average_slot_payout(1)\r\n",
    "    -1\r\n",
    "    >>> estimate_average_slot_payout(1)\r\n",
    "    0.5\r\n",
    "    \"\"\"\r\n",
    "    pass\r\n",
    "\r\n",
    "# Solution: The exact expected value of one pull of the slot machine is 0.025 - i.e. a little more than 2 cents. See? Not every game in the Python Challenge Casino is rigged against the player!\r\n",
    "\r\n",
    "# Because of the high variance of the outcome (there are some very rare high payout results that significantly affect the average) you might need to run your function with a very high value of n_runs to get a stable answer close to the true expectation.\r\n",
    "\r\n",
    "# If your answer is way higher than 0.025, then maybe you forgot to account for the $1 cost per play?\r\n"
   ],
   "outputs": [],
   "metadata": {}
  }
 ],
 "metadata": {
  "orig_nbformat": 4,
  "language_info": {
   "name": "python",
   "version": "3.8.8rc1",
   "mimetype": "text/x-python",
   "codemirror_mode": {
    "name": "ipython",
    "version": 3
   },
   "pygments_lexer": "ipython3",
   "nbconvert_exporter": "python",
   "file_extension": ".py"
  },
  "kernelspec": {
   "name": "python3",
   "display_name": "Python 3.8.8rc1 64-bit"
  },
  "interpreter": {
   "hash": "3410afedb74081d81603511028deadddc25ba0f01c14e0cb891e2c2473f81884"
  }
 },
 "nbformat": 4,
 "nbformat_minor": 2
}