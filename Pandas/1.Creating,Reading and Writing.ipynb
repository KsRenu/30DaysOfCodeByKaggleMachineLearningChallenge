{
 "cells": [
  {
   "cell_type": "markdown",
   "source": [
    "# Introduction\r\n",
    "​\r\n",
    "The first step in most data analytics projects is reading the data file. In this exercise, you'll create Series and DataFrame objects, both by hand and by reading data files.\r\n",
    "​\r\n",
    "Run the code cell below to load libraries you will need (including code to check your answers)."
   ],
   "metadata": {}
  },
  {
   "cell_type": "markdown",
   "source": [
    "## 1.\r\n",
    "\r\n",
    "In the cell below, create a DataFrame `fruits` that looks like this:\r\n",
    "\r\n",
    "![](https://i.imgur.com/Ax3pp2A.png)"
   ],
   "metadata": {}
  },
  {
   "cell_type": "code",
   "execution_count": null,
   "source": [
    "# Your code goes here. Create a dataframe matching the above diagram and assign it to the variable fruits.\r\n",
    "fruits =pd.DataFrame([[30, 21]], columns=['Apples', 'Bananas'])"
   ],
   "outputs": [],
   "metadata": {}
  },
  {
   "cell_type": "markdown",
   "source": [
    "## 2.\r\n",
    "\r\n",
    "Create a dataframe `fruit_sales` that matches the diagram below:\r\n",
    "\r\n",
    "![](https://i.imgur.com/CHPn7ZF.png)"
   ],
   "metadata": {}
  },
  {
   "cell_type": "code",
   "execution_count": null,
   "source": [
    "# Your code goes here. Create a dataframe matching the above diagram and assign it to the variable fruit_sales.\r\n",
    "fruit_sales = pd.DataFrame({'Apples': [35,41],'Bananas':[21,34]},index=['2017 Sales','2018 Sales'])\r\n",
    "\r\n",
    "or \r\n",
    "fruit_sales = pd.DataFrame([[35, 21], [41, 34]], columns=['Apples', 'Bananas'],\r\n",
    "                index=['2017 Sales', '2018 Sales'])\r\n"
   ],
   "outputs": [],
   "metadata": {}
  },
  {
   "cell_type": "markdown",
   "source": [
    "## 3.\r\n",
    "\r\n",
    "Create a variable `ingredients` with a Series that looks like:\r\n",
    "\r\n",
    "```\r\n",
    "Flour     4 cups\r\n",
    "Milk       1 cup\r\n",
    "Eggs     2 large\r\n",
    "Spam       1 can\r\n",
    "Name: Dinner, dtype: object\r\n",
    "```"
   ],
   "metadata": {}
  },
  {
   "cell_type": "code",
   "execution_count": null,
   "source": [
    "ingredients = pd.Series(['4 cups','1 cup','2 large','1 can'],index=['Flour','Milk','Eggs','Spam'],name='Dinner')\r\n",
    " or \r\n",
    " quantities = ['4 cups', '1 cup', '2 large', '1 can']\r\n",
    "items = ['Flour', 'Milk', 'Eggs', 'Spam']\r\n",
    "recipe = pd.Series(quantities, index=items, name='Dinner')\r\n"
   ],
   "outputs": [],
   "metadata": {}
  },
  {
   "cell_type": "markdown",
   "source": [
    "Read the following csv dataset of wine reviews into a DataFrame called `reviews`:\r\n",
    "\r\n",
    "![](https://i.imgur.com/74RCZtU.png)\r\n",
    "\r\n",
    "The filepath to the csv file is `../input/wine-reviews/winemag-data_first150k.csv`. The first few lines look like:\r\n",
    "\r\n",
    "```\r\n",
    ",country,description,designation,points,price,province,region_1,region_2,variety,winery\r\n",
    "0,US,\"This tremendous 100% varietal wine[...]\",Martha's Vineyard,96,235.0,California,Napa Valley,Napa,Cabernet Sauvignon,Heitz\r\n",
    "1,Spain,\"Ripe aromas of fig, blackberry and[...]\",Carodorum Selección Especial Reserva,96,110.0,Northern Spain,Toro,,Tinta de Toro,Bodega Carmen Rodríguez\r\n",
    "```"
   ],
   "metadata": {}
  },
  {
   "cell_type": "code",
   "execution_count": null,
   "source": [
    "reviews = pd.read_csv(\"../input/wine-reviews/winemag-data_first150k.csv\",index_col=0)\r\n"
   ],
   "outputs": [],
   "metadata": {}
  },
  {
   "cell_type": "markdown",
   "source": [
    "## 5.\r\n",
    "\r\n",
    "Run the cell below to create and display a DataFrame called `animals`:"
   ],
   "metadata": {}
  },
  {
   "cell_type": "markdown",
   "source": [
    "write code to save this DataFrame to disk as a csv file with the name `cows_and_goats.csv`"
   ],
   "metadata": {}
  },
  {
   "cell_type": "code",
   "execution_count": null,
   "source": [
    "animals.to_csv(\"cows_and_goats.csv\")"
   ],
   "outputs": [],
   "metadata": {}
  }
 ],
 "metadata": {
  "orig_nbformat": 4,
  "language_info": {
   "name": "python"
  }
 },
 "nbformat": 4,
 "nbformat_minor": 2
}