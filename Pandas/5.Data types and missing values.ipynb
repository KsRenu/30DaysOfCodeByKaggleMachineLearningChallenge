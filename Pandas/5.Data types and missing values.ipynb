{
 "cells": [
  {
   "cell_type": "markdown",
   "source": [
    "# Exercises"
   ],
   "metadata": {}
  },
  {
   "cell_type": "markdown",
   "source": [
    "## 1. \r\n",
    "What is the data type of the `points` column in the dataset?"
   ],
   "metadata": {}
  },
  {
   "cell_type": "code",
   "execution_count": null,
   "source": [
    "dtype = reviews.points.dtype"
   ],
   "outputs": [],
   "metadata": {}
  },
  {
   "cell_type": "markdown",
   "source": [
    "## 2. \r\n",
    "Create a Series from entries in the `points` column, but convert the entries to strings. Hint: strings are `str` in native Python."
   ],
   "metadata": {}
  },
  {
   "cell_type": "code",
   "execution_count": null,
   "source": [
    "point_strings = reviews.points.astype(str)"
   ],
   "outputs": [],
   "metadata": {}
  },
  {
   "cell_type": "markdown",
   "source": [
    "## 3.\r\n",
    "Sometimes the price column is null. How many reviews in the dataset are missing a price?"
   ],
   "metadata": {}
  },
  {
   "cell_type": "code",
   "execution_count": null,
   "source": [
    "missing_price_reviews = reviews[reviews.price.isnull()]\r\n",
    "n_missing_prices = len(missing_price_reviews)\r\n",
    "# Cute alternative solution: if we sum a boolean series, True is treated as 1 and False as 0\r\n",
    "n_missing_prices = reviews.price.isnull().sum()\r\n",
    "# or equivalently:\r\n",
    "n_missing_prices = pd.isnull(reviews.price).sum()"
   ],
   "outputs": [],
   "metadata": {}
  },
  {
   "cell_type": "markdown",
   "source": [
    "## 4.\r\n",
    "What are the most common wine-producing regions? Create a Series counting the number of times each value occurs in the `region_1` field. This field is often missing data, so replace missing values with `Unknown`. Sort in descending order.  Your output should look something like this:\r\n",
    "\r\n",
    "```\r\n",
    "Unknown                    21247\r\n",
    "Napa Valley                 4480\r\n",
    "                           ...  \r\n",
    "Bardolino Superiore            1\r\n",
    "Primitivo del Tarantino        1\r\n",
    "Name: region_1, Length: 1230, dtype: int64\r\n",
    "```"
   ],
   "metadata": {}
  },
  {
   "cell_type": "code",
   "execution_count": null,
   "source": [
    "reviews_per_region = reviews.region_1.fillna('Unknown').value_counts().sort_values(ascending=False)"
   ],
   "outputs": [],
   "metadata": {}
  }
 ],
 "metadata": {
  "orig_nbformat": 4,
  "language_info": {
   "name": "python"
  }
 },
 "nbformat": 4,
 "nbformat_minor": 2
}