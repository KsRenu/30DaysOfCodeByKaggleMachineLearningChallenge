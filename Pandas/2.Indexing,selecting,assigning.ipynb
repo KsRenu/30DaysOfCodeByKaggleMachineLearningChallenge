{
 "cells": [
  {
   "cell_type": "code",
   "execution_count": null,
   "source": [
    "import pandas as pd\r\n",
    "\r\n",
    "reviews = pd.read_csv(\"../input/wine-reviews/winemag-data-130k-v2.csv\", index_col=0)\r\n",
    "pd.set_option(\"display.max_rows\", 5)\r\n",
    "from learntools.core import binder; binder.bind(globals())\r\n",
    "from learntools.pandas.indexing_selecting_and_assigning import *\r\n",
    "print(\"Setup complete.\")"
   ],
   "outputs": [],
   "metadata": {}
  },
  {
   "cell_type": "markdown",
   "source": [
    "# Exercises"
   ],
   "metadata": {}
  },
  {
   "cell_type": "markdown",
   "source": [
    "## 1.\r\n",
    "\r\n",
    "Select the `description` column from `reviews` and assign the result to the variable `desc`."
   ],
   "metadata": {}
  },
  {
   "cell_type": "code",
   "execution_count": null,
   "source": [
    "# Your code here\r\n",
    "desc = reviews.loc[0:,'description']\r\n",
    "or\r\n",
    "desc = reviews.description\r\n",
    "or\r\n",
    "\r\n",
    "desc = reviews[\"description\"]"
   ],
   "outputs": [],
   "metadata": {}
  },
  {
   "cell_type": "markdown",
   "source": [
    "## 2.\r\n",
    "\r\n",
    "Select the first value from the description column of `reviews`, assigning it to variable `first_description`."
   ],
   "metadata": {}
  },
  {
   "cell_type": "code",
   "execution_count": null,
   "source": [
    "first_description = reviews.loc[0,'description']\r\n",
    "\r\n",
    "or\r\n",
    "\r\n",
    "first_description = reviews.description.iloc[0]\r\n",
    "\r\n",
    "\r\n",
    "Note that while this is the preferred way to obtain the entry in the DataFrame, many other options will return a valid result, such as reviews.description.loc[0], reviews.description[0], and more!\r\n"
   ],
   "outputs": [],
   "metadata": {}
  },
  {
   "cell_type": "markdown",
   "source": [
    "## 3. \r\n",
    "\r\n",
    "Select the first row of data (the first record) from `reviews`, assigning it to the variable `first_row`."
   ],
   "metadata": {}
  },
  {
   "cell_type": "code",
   "execution_count": null,
   "source": [
    "first_row = reviews.loc[0,'country':'winery']\r\n",
    "​\r\n",
    "or\r\n",
    "\r\n",
    "first_row = reviews.iloc[0]"
   ],
   "outputs": [],
   "metadata": {}
  },
  {
   "cell_type": "markdown",
   "source": [
    "## 4.\r\n",
    "\r\n",
    "Select the first 10 values from the `description` column in `reviews`, assigning the result to variable `first_descriptions`.\r\n",
    "\r\n",
    "Hint: format your output as a pandas Series."
   ],
   "metadata": {}
  },
  {
   "cell_type": "code",
   "execution_count": null,
   "source": [
    "first_descriptions = reviews.loc[0:9,'description']\r\n",
    "\r\n",
    "or\r\n",
    "\r\n",
    "first_descriptions = reviews.description.iloc[:10]\r\n",
    "Note that many other options will return a valid result, such as desc.head(10) and reviews.loc[:9, \"description\"]."
   ],
   "outputs": [],
   "metadata": {}
  },
  {
   "cell_type": "markdown",
   "source": [
    "## 5.\r\n",
    "\r\n",
    "Select the records with index labels `1`, `2`, `3`, `5`, and `8`, assigning the result to the variable `sample_reviews`.\r\n",
    "\r\n",
    "In other words, generate the following DataFrame:\r\n",
    "\r\n",
    "![](https://i.imgur.com/sHZvI1O.png)"
   ],
   "metadata": {}
  },
  {
   "cell_type": "code",
   "execution_count": null,
   "source": [
    "sample_reviews = reviews.loc[(reviews.index == 1) | (reviews.index == 2) | (reviews.index == 3) | (reviews.index == 5) | (reviews.index == 8)]\r\n",
    " or \r\n",
    "\r\n",
    " indices = [1, 2, 3, 5, 8]\r\n",
    "sample_reviews = reviews.loc[indices]"
   ],
   "outputs": [],
   "metadata": {}
  },
  {
   "cell_type": "markdown",
   "source": [
    "## 6.\r\n",
    "\r\n",
    "Create a variable `df` containing the `country`, `province`, `region_1`, and `region_2` columns of the records with the index labels `0`, `1`, `10`, and `100`. In other words, generate the following DataFrame:\r\n",
    "\r\n",
    "![](https://i.imgur.com/FUCGiKP.png)"
   ],
   "metadata": {}
  },
  {
   "cell_type": "code",
   "execution_count": null,
   "source": [
    "cols = ['country', 'province', 'region_1', 'region_2']\r\n",
    "indices = [0, 1, 10, 100]\r\n",
    "df = reviews.loc[indices, cols]"
   ],
   "outputs": [],
   "metadata": {}
  },
  {
   "cell_type": "markdown",
   "source": [
    "## 7.\r\n",
    "\r\n",
    "Create a variable `df` containing the `country` and `variety` columns of the first 100 records. \r\n",
    "\r\n",
    "Hint: you may use `loc` or `iloc`. When working on the answer this question and the several of the ones that follow, keep the following \"gotcha\" described in the tutorial:\r\n",
    "\r\n",
    "> `iloc` uses the Python stdlib indexing scheme, where the first element of the range is included and the last one excluded. \r\n",
    "`loc`, meanwhile, indexes inclusively. \r\n",
    "\r\n",
    "> This is particularly confusing when the DataFrame index is a simple numerical list, e.g. `0,...,1000`. In this case `df.iloc[0:1000]` will return 1000 entries, while `df.loc[0:1000]` return 1001 of them! To get 1000 elements using `loc`, you will need to go one lower and ask for `df.iloc[0:999]`. "
   ],
   "metadata": {}
  },
  {
   "cell_type": "code",
   "execution_count": null,
   "source": [
    "df = reviews.loc[0:99,['country','variety']]\r\n",
    "or\r\n",
    "cols = ['country', 'variety']\r\n",
    "df = reviews.loc[:99, cols]\r\n",
    "or\r\n",
    "\r\n",
    "cols_idx = [0, 11]\r\n",
    "df = reviews.iloc[:100, cols_idx]"
   ],
   "outputs": [],
   "metadata": {}
  },
  {
   "cell_type": "markdown",
   "source": [
    "## 8.\r\n",
    "\r\n",
    "Create a DataFrame `italian_wines` containing reviews of wines made in `Italy`. Hint: `reviews.country` equals what?"
   ],
   "metadata": {}
  },
  {
   "cell_type": "code",
   "execution_count": null,
   "source": [
    "italian_wines = reviews.loc[reviews.country=='Italy']\r\n",
    "or\r\n",
    "italian_wines = reviews[reviews.country == 'Italy']"
   ],
   "outputs": [],
   "metadata": {}
  },
  {
   "cell_type": "markdown",
   "source": [
    "## 9.\r\n",
    "\r\n",
    "Create a DataFrame `top_oceania_wines` containing all reviews with at least 95 points (out of 100) for wines from Australia or New Zealand."
   ],
   "metadata": {}
  },
  {
   "cell_type": "code",
   "execution_count": null,
   "source": [
    "top_oceania_wines = reviews[((reviews.country=='Australia')|(reviews.country=='New Zealand'))&(reviews.points>=95)]\r\n",
    "\r\n",
    "or\r\n",
    "\r\n",
    "top_oceania_wines = reviews.loc[\r\n",
    "    (reviews.country.isin(['Australia', 'New Zealand']))\r\n",
    "    & (reviews.points >= 95)\r\n",
    "]"
   ],
   "outputs": [],
   "metadata": {}
  }
 ],
 "metadata": {
  "orig_nbformat": 4,
  "language_info": {
   "name": "python",
   "version": "3.8.8"
  },
  "kernelspec": {
   "name": "python3",
   "display_name": "Python 3.8.8rc1 64-bit"
  },
  "interpreter": {
   "hash": "3410afedb74081d81603511028deadddc25ba0f01c14e0cb891e2c2473f81884"
  }
 },
 "nbformat": 4,
 "nbformat_minor": 2
}