{
 "cells": [
  {
   "cell_type": "markdown",
   "source": [
    "# Exercises\r\n",
    "​\r\n",
    "Run the following cell to set up code-checking, which will verify your work as you go."
   ],
   "metadata": {}
  },
  {
   "cell_type": "code",
   "execution_count": null,
   "source": [
    "# Set up code checking\r\n",
    "from learntools.core import binder\r\n",
    "binder.bind(globals())\r\n",
    "from learntools.machine_learning.ex2 import *\r\n",
    "print(\"Setup Complete\")"
   ],
   "outputs": [],
   "metadata": {}
  },
  {
   "cell_type": "markdown",
   "source": [
    "## Step 1: Loading Data\r\n",
    "Read the Iowa data file into a Pandas DataFrame called `home_data`."
   ],
   "metadata": {}
  },
  {
   "cell_type": "code",
   "execution_count": 5,
   "source": [
    "import pandas as pd\r\n",
    "\r\n",
    "# Path of the file to read\r\n",
    "iowa_file_path = \"C:\\\\Users\\\\Admin\\\\OneDrive\\\\Desktop\\\\Materials\\\\Pandas-DATAS\\\\house.csv\"\r\n",
    "\r\n",
    "# Fill in the line below to read the file into a variable home_data\r\n",
    "home_data = pd.read_csv(iowa_file_path)\r\n"
   ],
   "outputs": [],
   "metadata": {}
  },
  {
   "cell_type": "markdown",
   "source": [
    "## Step 2: Review The Data\r\n",
    "Use the command you learned to view summary statistics of the data. Then fill in variables to answer the following questions"
   ],
   "metadata": {}
  },
  {
   "cell_type": "code",
   "execution_count": 4,
   "source": [
    "# Print summary statistics in next line\r\n",
    "home_data.describe()"
   ],
   "outputs": [
    {
     "output_type": "execute_result",
     "data": {
      "text/plain": [
       "       Temperature   DewPoint   Humidity  Sea Level PressureIn  \\\n",
       "count    31.000000  31.000000  31.000000             31.000000   \n",
       "mean     34.677419  17.838710  51.677419             29.992903   \n",
       "std       7.639315  11.378626  11.634395              0.237237   \n",
       "min      20.000000  -3.000000  33.000000             29.520000   \n",
       "25%      29.000000  10.000000  44.500000             29.855000   \n",
       "50%      35.000000  18.000000  50.000000             30.010000   \n",
       "75%      39.500000  23.000000  55.000000             30.140000   \n",
       "max      50.000000  46.000000  78.000000             30.570000   \n",
       "\n",
       "       VisibilityMiles  WindSpeedMPH  CloudCover  WindDirDegrees  \n",
       "count        31.000000     28.000000   31.000000       31.000000  \n",
       "mean          9.193548      6.892857    3.129032      247.129032  \n",
       "std           1.939405      2.871821    2.629853       92.308086  \n",
       "min           1.000000      2.000000    0.000000       34.000000  \n",
       "25%           9.000000      5.000000    1.000000      238.000000  \n",
       "50%          10.000000      6.500000    3.000000      281.000000  \n",
       "75%          10.000000      8.000000    4.500000      300.000000  \n",
       "max          10.000000     16.000000    8.000000      345.000000  "
      ],
      "text/html": [
       "<div>\n",
       "<style scoped>\n",
       "    .dataframe tbody tr th:only-of-type {\n",
       "        vertical-align: middle;\n",
       "    }\n",
       "\n",
       "    .dataframe tbody tr th {\n",
       "        vertical-align: top;\n",
       "    }\n",
       "\n",
       "    .dataframe thead th {\n",
       "        text-align: right;\n",
       "    }\n",
       "</style>\n",
       "<table border=\"1\" class=\"dataframe\">\n",
       "  <thead>\n",
       "    <tr style=\"text-align: right;\">\n",
       "      <th></th>\n",
       "      <th>Temperature</th>\n",
       "      <th>DewPoint</th>\n",
       "      <th>Humidity</th>\n",
       "      <th>Sea Level PressureIn</th>\n",
       "      <th>VisibilityMiles</th>\n",
       "      <th>WindSpeedMPH</th>\n",
       "      <th>CloudCover</th>\n",
       "      <th>WindDirDegrees</th>\n",
       "    </tr>\n",
       "  </thead>\n",
       "  <tbody>\n",
       "    <tr>\n",
       "      <th>count</th>\n",
       "      <td>31.000000</td>\n",
       "      <td>31.000000</td>\n",
       "      <td>31.000000</td>\n",
       "      <td>31.000000</td>\n",
       "      <td>31.000000</td>\n",
       "      <td>28.000000</td>\n",
       "      <td>31.000000</td>\n",
       "      <td>31.000000</td>\n",
       "    </tr>\n",
       "    <tr>\n",
       "      <th>mean</th>\n",
       "      <td>34.677419</td>\n",
       "      <td>17.838710</td>\n",
       "      <td>51.677419</td>\n",
       "      <td>29.992903</td>\n",
       "      <td>9.193548</td>\n",
       "      <td>6.892857</td>\n",
       "      <td>3.129032</td>\n",
       "      <td>247.129032</td>\n",
       "    </tr>\n",
       "    <tr>\n",
       "      <th>std</th>\n",
       "      <td>7.639315</td>\n",
       "      <td>11.378626</td>\n",
       "      <td>11.634395</td>\n",
       "      <td>0.237237</td>\n",
       "      <td>1.939405</td>\n",
       "      <td>2.871821</td>\n",
       "      <td>2.629853</td>\n",
       "      <td>92.308086</td>\n",
       "    </tr>\n",
       "    <tr>\n",
       "      <th>min</th>\n",
       "      <td>20.000000</td>\n",
       "      <td>-3.000000</td>\n",
       "      <td>33.000000</td>\n",
       "      <td>29.520000</td>\n",
       "      <td>1.000000</td>\n",
       "      <td>2.000000</td>\n",
       "      <td>0.000000</td>\n",
       "      <td>34.000000</td>\n",
       "    </tr>\n",
       "    <tr>\n",
       "      <th>25%</th>\n",
       "      <td>29.000000</td>\n",
       "      <td>10.000000</td>\n",
       "      <td>44.500000</td>\n",
       "      <td>29.855000</td>\n",
       "      <td>9.000000</td>\n",
       "      <td>5.000000</td>\n",
       "      <td>1.000000</td>\n",
       "      <td>238.000000</td>\n",
       "    </tr>\n",
       "    <tr>\n",
       "      <th>50%</th>\n",
       "      <td>35.000000</td>\n",
       "      <td>18.000000</td>\n",
       "      <td>50.000000</td>\n",
       "      <td>30.010000</td>\n",
       "      <td>10.000000</td>\n",
       "      <td>6.500000</td>\n",
       "      <td>3.000000</td>\n",
       "      <td>281.000000</td>\n",
       "    </tr>\n",
       "    <tr>\n",
       "      <th>75%</th>\n",
       "      <td>39.500000</td>\n",
       "      <td>23.000000</td>\n",
       "      <td>55.000000</td>\n",
       "      <td>30.140000</td>\n",
       "      <td>10.000000</td>\n",
       "      <td>8.000000</td>\n",
       "      <td>4.500000</td>\n",
       "      <td>300.000000</td>\n",
       "    </tr>\n",
       "    <tr>\n",
       "      <th>max</th>\n",
       "      <td>50.000000</td>\n",
       "      <td>46.000000</td>\n",
       "      <td>78.000000</td>\n",
       "      <td>30.570000</td>\n",
       "      <td>10.000000</td>\n",
       "      <td>16.000000</td>\n",
       "      <td>8.000000</td>\n",
       "      <td>345.000000</td>\n",
       "    </tr>\n",
       "  </tbody>\n",
       "</table>\n",
       "</div>"
      ]
     },
     "metadata": {},
     "execution_count": 4
    }
   ],
   "metadata": {}
  },
  {
   "cell_type": "code",
   "execution_count": null,
   "source": [
    "# What is the average lot size (rounded to nearest integer)?\r\n",
    "avg_lot_size = 10517\r\n",
    "\r\n",
    "# As of today, how old is the newest home (current year - the date in which it was built)\r\n",
    "newest_home_age =11\r\n"
   ],
   "outputs": [],
   "metadata": {}
  }
 ],
 "metadata": {
  "orig_nbformat": 4,
  "language_info": {
   "name": "python",
   "version": "3.8.8rc1",
   "mimetype": "text/x-python",
   "codemirror_mode": {
    "name": "ipython",
    "version": 3
   },
   "pygments_lexer": "ipython3",
   "nbconvert_exporter": "python",
   "file_extension": ".py"
  },
  "kernelspec": {
   "name": "python3",
   "display_name": "Python 3.8.8rc1 64-bit"
  },
  "interpreter": {
   "hash": "3410afedb74081d81603511028deadddc25ba0f01c14e0cb891e2c2473f81884"
  }
 },
 "nbformat": 4,
 "nbformat_minor": 2
}