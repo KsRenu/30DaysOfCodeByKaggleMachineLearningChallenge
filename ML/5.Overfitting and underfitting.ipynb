{
 "cells": [
  {
   "cell_type": "code",
   "execution_count": null,
   "source": [
    "\r\n",
    "# This is a phenomenon called overfitting, where a model matches the training data almost perfectly, \r\n",
    "# but does poorly in validation and other new data. On the flip side, if we make our tree very shallow,\r\n",
    "#  it doesn't divide up the houses into very distinct groups.\r\n"
   ],
   "outputs": [],
   "metadata": {}
  },
  {
   "cell_type": "code",
   "execution_count": null,
   "source": [
    "# When a model fails to capture important distinctions and patterns in the data,\r\n",
    "#  so it performs poorly even in training data, that is called underfitting.\r\n",
    "# But the max_leaf_nodes argument provides a very sensible way to control overfitting vs underfitting. The more leaves we allow the model to make, \r\n",
    "# the more we move from the underfitting area in the above graph to the overfitting area."
   ],
   "outputs": [],
   "metadata": {}
  },
  {
   "cell_type": "code",
   "execution_count": 1,
   "source": [
    "from sklearn.metrics import mean_absolute_error\r\n",
    "from sklearn.tree import DecisionTreeRegressor\r\n",
    "\r\n",
    "def get_mae(max_leaf_nodes, train_X, val_X, train_y, val_y):\r\n",
    "    model = DecisionTreeRegressor(max_leaf_nodes=max_leaf_nodes, random_state=0)\r\n",
    "    model.fit(train_X, train_y)\r\n",
    "    preds_val = model.predict(val_X)\r\n",
    "    mae = mean_absolute_error(val_y, preds_val)\r\n",
    "    return(mae)"
   ],
   "outputs": [],
   "metadata": {}
  },
  {
   "cell_type": "code",
   "execution_count": 2,
   "source": [
    "# Data Loading Code Runs At This Point\r\n",
    "import pandas as pd\r\n",
    "    \r\n",
    "# Load data\r\n",
    "melbourne_file_path = 'C:\\\\Users\\\\Admin\\\\OneDrive\\\\Desktop\\\\GitHub\\\\KsRenu\\\\Materials\\\\Pandas-DATAS\\\\house.csv' #provide the correct system path\r\n",
    "melbourne_data = pd.read_csv(melbourne_file_path) \r\n",
    "# Filter rows with missing values\r\n",
    "filtered_melbourne_data = melbourne_data.dropna(axis=0)\r\n",
    "# Choose target and features\r\n",
    "y = filtered_melbourne_data.Price\r\n",
    "melbourne_features = ['Rooms', 'Bathroom', 'Landsize', 'BuildingArea', \r\n",
    "                        'YearBuilt', 'Lattitude', 'Longtitude']\r\n",
    "X = filtered_melbourne_data[melbourne_features]\r\n",
    "\r\n",
    "from sklearn.model_selection import train_test_split\r\n",
    "\r\n",
    "# split data into training and validation data, for both features and target\r\n",
    "train_X, val_X, train_y, val_y = train_test_split(X, y,random_state = 0)"
   ],
   "outputs": [],
   "metadata": {}
  },
  {
   "cell_type": "code",
   "execution_count": 5,
   "source": [
    "# compare MAE with differing values of max_leaf_nodes\r\n",
    "for max_leaf_nodes in [5, 50, 500, 5000]:\r\n",
    "    my_mae = get_mae(max_leaf_nodes, train_X, val_X, train_y, val_y)\r\n",
    "    print(\"Max leaf nodes: %d  \\t\\t Mean Absolute Error:  %d\" %(max_leaf_nodes, my_mae))"
   ],
   "outputs": [
    {
     "output_type": "stream",
     "name": "stdout",
     "text": [
      "Max leaf nodes: 5  \t\t Mean Absolute Error:  347380\n",
      "Max leaf nodes: 50  \t\t Mean Absolute Error:  258171\n",
      "Max leaf nodes: 500  \t\t Mean Absolute Error:  243495\n",
      "Max leaf nodes: 5000  \t\t Mean Absolute Error:  254983\n"
     ]
    }
   ],
   "metadata": {}
  },
  {
   "cell_type": "code",
   "execution_count": null,
   "source": [
    "#Overfitting: capturing spurious patterns that won't recur in the future, leading to less accurate predictions, or\r\n",
    "#Underfitting: failing to capture relevant patterns, again leading to less accurate predictions.\r\n",
    "#We use validation data, which isn't used in model training, to measure a candidate model's accuracy. This lets us try many candidate models and keep the best one."
   ],
   "outputs": [],
   "metadata": {}
  },
  {
   "cell_type": "markdown",
   "source": [
    "## Recap"
   ],
   "metadata": {}
  },
  {
   "cell_type": "code",
   "execution_count": 4,
   "source": [
    "# Code you have previously used to load data\r\n",
    "import pandas as pd\r\n",
    "from sklearn.metrics import mean_absolute_error\r\n",
    "from sklearn.model_selection import train_test_split\r\n",
    "from sklearn.tree import DecisionTreeRegressor\r\n",
    "\r\n",
    "\r\n",
    "# Path of the file to read\r\n",
    "iowa_file_path = '../input/home-data-for-ml-course/train.csv'\r\n",
    "\r\n",
    "home_data = pd.read_csv(iowa_file_path)\r\n",
    "# Create target object and call it y\r\n",
    "y = home_data.SalePrice\r\n",
    "# Create X\r\n",
    "features = ['LotArea', 'YearBuilt', '1stFlrSF', '2ndFlrSF', 'FullBath', 'BedroomAbvGr', 'TotRmsAbvGrd']\r\n",
    "X = home_data[features]\r\n",
    "\r\n",
    "# Split into validation and training data\r\n",
    "train_X, val_X, train_y, val_y = train_test_split(X, y, random_state=1)\r\n",
    "\r\n",
    "# Specify Model\r\n",
    "iowa_model = DecisionTreeRegressor(random_state=1)\r\n",
    "# Fit Model\r\n",
    "iowa_model.fit(train_X, train_y)\r\n",
    "\r\n",
    "# Make validation predictions and calculate mean absolute error\r\n",
    "val_predictions = iowa_model.predict(val_X)\r\n",
    "val_mae = mean_absolute_error(val_predictions, val_y)\r\n",
    "print(\"Validation MAE: {:,.0f}\".format(val_mae))\r\n",
    "\r\n",
    "# Set up code checking\r\n",
    "from learntools.core import binder\r\n",
    "binder.bind(globals())\r\n",
    "from learntools.machine_learning.ex5 import *\r\n",
    "print(\"\\nSetup complete\")"
   ],
   "outputs": [],
   "metadata": {}
  },
  {
   "cell_type": "markdown",
   "source": [
    "# Exercises\r\n",
    "You could write the function `get_mae` yourself."
   ],
   "metadata": {}
  },
  {
   "cell_type": "code",
   "execution_count": null,
   "source": [
    "def get_mae(max_leaf_nodes, train_X, val_X, train_y, val_y):\r\n",
    "    model = DecisionTreeRegressor(max_leaf_nodes=max_leaf_nodes, random_state=0)\r\n",
    "    model.fit(train_X, train_y)\r\n",
    "    preds_val = model.predict(val_X)\r\n",
    "    mae = mean_absolute_error(val_y, preds_val)\r\n",
    "    return(mae)"
   ],
   "outputs": [],
   "metadata": {}
  },
  {
   "cell_type": "markdown",
   "source": [
    "## Step 1: Compare Different Tree Sizes\r\n",
    "Write a loop that tries the following values for *max_leaf_nodes* from a set of possible values.\r\n",
    "\r\n",
    "Call the *get_mae* function on each value of max_leaf_nodes. Store the output in some way that allows you to select the value of `max_leaf_nodes` that gives the most accurate model on your data."
   ],
   "metadata": {}
  },
  {
   "cell_type": "code",
   "execution_count": null,
   "source": [
    "candidate_max_leaf_nodes = [5, 25, 50, 100, 250, 500]\r\n",
    "# Write loop to find the ideal tree size from candidate_max_leaf_nodes\r\n",
    "scores = {leaf_size: get_mae(leaf_size, train_X, val_X, train_y, val_y) for leaf_size in candidate_max_leaf_nodes}\r\n",
    "best_tree_size = min(scores, key=scores.get)\r\n",
    "\r\n",
    "# Store the best value of max_leaf_nodes (it will be either 5, 25, 50, 100, 250 or 500)\r\n",
    "\r\n"
   ],
   "outputs": [],
   "metadata": {}
  },
  {
   "cell_type": "markdown",
   "source": [
    "## Step 2: Fit Model Using All Data\r\n",
    "You know the best tree size. If you were going to deploy this model in practice, you would make it even more accurate by using all of the data and keeping that tree size.  That is, you don't need to hold out the validation data now that you've made all your modeling decisions."
   ],
   "metadata": {}
  },
  {
   "cell_type": "code",
   "execution_count": null,
   "source": [
    "# Fill in argument to make optimal size and uncomment\r\n",
    "#final_model = DecisionTreeRegressor()\r\n",
    "#Fit the model with best_tree_size. Fill in argument to make optimal size\r\n",
    "final_model = DecisionTreeRegressor(max_leaf_nodes=best_tree_size, random_state=1)\r\n",
    "\r\n",
    "# fit the final model\r\n",
    "final_model.fit(X, y)\r\n",
    "\r\n",
    "# fit the final model and uncomment the next two lines\r\n",
    "# final_model.fit(____, ____)"
   ],
   "outputs": [],
   "metadata": {}
  }
 ],
 "metadata": {
  "orig_nbformat": 4,
  "language_info": {
   "name": "python",
   "version": "3.8.8rc1",
   "mimetype": "text/x-python",
   "codemirror_mode": {
    "name": "ipython",
    "version": 3
   },
   "pygments_lexer": "ipython3",
   "nbconvert_exporter": "python",
   "file_extension": ".py"
  },
  "kernelspec": {
   "name": "python3",
   "display_name": "Python 3.8.8rc1 64-bit"
  },
  "interpreter": {
   "hash": "3410afedb74081d81603511028deadddc25ba0f01c14e0cb891e2c2473f81884"
  }
 },
 "nbformat": 4,
 "nbformat_minor": 2
}