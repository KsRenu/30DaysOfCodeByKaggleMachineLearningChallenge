{
 "cells": [
  {
   "cell_type": "code",
   "execution_count": 1,
   "source": [
    "#to read a file\r\n",
    "import pandas as pd\r\n",
    "melbourne_file_path=\"C:\\\\Users\\\\Admin\\\\OneDrive\\\\Desktop\\\\Materials\\\\Pandas-DATAS\\\\house.csv\"\r\n",
    "melbourne_data=pd.read_csv(melbourne_file_path)\r\n",
    "# Filter rows with missing price values\r\n",
    "filtered_melbourne_data = melbourne_data.dropna(axis=0)\r\n",
    "# Choose target and features\r\n",
    "y = filtered_melbourne_data.Price\r\n",
    "melbourne_features = ['Rooms', 'Bathroom', 'Landsize', 'BuildingArea', \r\n",
    "                        'YearBuilt', 'Lattitude', 'Longtitude']\r\n",
    "X = filtered_melbourne_data[melbourne_features]\r\n"
   ],
   "outputs": [],
   "metadata": {}
  },
  {
   "cell_type": "code",
   "execution_count": 3,
   "source": [
    "from sklearn.tree import DecisionTreeRegressor\r\n",
    "# Define model\r\n",
    "melbourne_model = DecisionTreeRegressor()\r\n",
    "# Fit model\r\n",
    "melbourne_model.fit(X, y)\r\n",
    "\r\n",
    "\r\n",
    "#Once we have a model, here is how we calculate the mean absolute error:\r\n",
    "\r\n",
    "from sklearn.metrics import mean_absolute_error\r\n",
    "\r\n",
    "predicted_home_prices = melbourne_model.predict(X)\r\n",
    "mean_absolute_error(y, predicted_home_prices)"
   ],
   "outputs": [
    {
     "output_type": "execute_result",
     "data": {
      "text/plain": [
       "434.71594577146544"
      ]
     },
     "metadata": {},
     "execution_count": 3
    }
   ],
   "metadata": {}
  },
  {
   "cell_type": "code",
   "execution_count": 5,
   "source": [
    "from sklearn.model_selection import train_test_split\r\n",
    "\r\n",
    "# split data into training and validation data, for both features and target\r\n",
    "# The split is based on a random number generator. Supplying a numeric value to\r\n",
    "# the random_state argument guarantees we get the same split every time we\r\n",
    "# run this script.\r\n",
    "train_X, val_X, train_y, val_y = train_test_split(X, y, random_state = 0)\r\n",
    "# Define model\r\n",
    "melbourne_model = DecisionTreeRegressor()\r\n",
    "# Fit model\r\n",
    "melbourne_model.fit(train_X, train_y)\r\n",
    "\r\n",
    "# get predicted prices on validation data\r\n",
    "val_predictions = melbourne_model.predict(val_X)\r\n",
    "print(mean_absolute_error(val_y, val_predictions))"
   ],
   "outputs": [
    {
     "output_type": "stream",
     "name": "stdout",
     "text": [
      "259582.47191736606\n"
     ]
    }
   ],
   "metadata": {}
  }
 ],
 "metadata": {
  "orig_nbformat": 4,
  "language_info": {
   "name": "python",
   "version": "3.8.8rc1",
   "mimetype": "text/x-python",
   "codemirror_mode": {
    "name": "ipython",
    "version": 3
   },
   "pygments_lexer": "ipython3",
   "nbconvert_exporter": "python",
   "file_extension": ".py"
  },
  "kernelspec": {
   "name": "python3",
   "display_name": "Python 3.8.8rc1 64-bit"
  },
  "interpreter": {
   "hash": "3410afedb74081d81603511028deadddc25ba0f01c14e0cb891e2c2473f81884"
  }
 },
 "nbformat": 4,
 "nbformat_minor": 2
}