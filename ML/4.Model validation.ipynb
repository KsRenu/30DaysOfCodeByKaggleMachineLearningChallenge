{
 "cells": [
  {
   "cell_type": "code",
   "execution_count": 1,
   "source": [
    "#to read a file\r\n",
    "import pandas as pd\r\n",
    "melbourne_file_path=\"C:\\\\Users\\\\Admin\\\\OneDrive\\\\Desktop\\\\GitHub\\\\KsRenu\\\\Materials\\\\Pandas-DATAS\\\\house.csv\"\r\n",
    "melbourne_data=pd.read_csv(melbourne_file_path)\r\n",
    "# Filter rows with missing price values\r\n",
    "filtered_melbourne_data = melbourne_data.dropna(axis=0)\r\n",
    "# Choose target and features\r\n",
    "y = filtered_melbourne_data.Price\r\n",
    "melbourne_features = ['Rooms', 'Bathroom', 'Landsize', 'BuildingArea', \r\n",
    "                        'YearBuilt', 'Lattitude', 'Longtitude']\r\n",
    "X = filtered_melbourne_data[melbourne_features]\r\n"
   ],
   "outputs": [],
   "metadata": {}
  },
  {
   "cell_type": "code",
   "execution_count": 2,
   "source": [
    "from sklearn.tree import DecisionTreeRegressor\r\n",
    "# Define model\r\n",
    "melbourne_model = DecisionTreeRegressor()\r\n",
    "# Fit model\r\n",
    "melbourne_model.fit(X, y)\r\n",
    "\r\n",
    "\r\n",
    "#Once we have a model, here is how we calculate the mean absolute error:\r\n",
    "\r\n",
    "from sklearn.metrics import mean_absolute_error\r\n",
    "\r\n",
    "predicted_home_prices = melbourne_model.predict(X)\r\n",
    "mean_absolute_error(y, predicted_home_prices)"
   ],
   "outputs": [
    {
     "output_type": "execute_result",
     "data": {
      "text/plain": [
       "434.71594577146544"
      ]
     },
     "metadata": {},
     "execution_count": 2
    }
   ],
   "metadata": {}
  },
  {
   "cell_type": "code",
   "execution_count": 5,
   "source": [
    "from sklearn.model_selection import train_test_split\r\n",
    "\r\n",
    "# split data into training and validation data, for both features and target\r\n",
    "# The split is based on a random number generator. Supplying a numeric value to\r\n",
    "# the random_state argument guarantees we get the same split every time we\r\n",
    "# run this script.\r\n",
    "train_X, val_X, train_y, val_y = train_test_split(X, y, random_state = 0)\r\n",
    "# Define model\r\n",
    "melbourne_model = DecisionTreeRegressor()\r\n",
    "# Fit model\r\n",
    "melbourne_model.fit(train_X, train_y)\r\n",
    "\r\n",
    "# get predicted prices on validation data\r\n",
    "val_predictions = melbourne_model.predict(val_X)\r\n",
    "print(mean_absolute_error(val_y, val_predictions))"
   ],
   "outputs": [
    {
     "output_type": "stream",
     "name": "stdout",
     "text": [
      "259582.47191736606\n"
     ]
    }
   ],
   "metadata": {}
  },
  {
   "cell_type": "markdown",
   "source": [
    "# Exercise\r\n",
    "## Step 1: Split Your Data\r\n",
    "Use the `train_test_split` function to split up your data.\r\n",
    "\r\n",
    "Give it the argument `random_state=1` so the `check` functions know what to expect when verifying your code.\r\n",
    "\r\n",
    "Recall, your features are loaded in the DataFrame **X** and your target is loaded in **y**.\r\n"
   ],
   "metadata": {}
  },
  {
   "cell_type": "code",
   "execution_count": 3,
   "source": [
    "# Import the train_test_split function and uncomment\r\n",
    "# from _ import _\r\n",
    "from sklearn.model_selection import train_test_split\r\n",
    "\r\n",
    "# fill in and uncomment\r\n",
    "train_X, val_X, train_y, val_y = train_test_split(X, y, random_state = 1)\r\n"
   ],
   "outputs": [],
   "metadata": {}
  },
  {
   "cell_type": "markdown",
   "source": [
    "## Step 2: Specify and Fit the Model\r\n",
    "\r\n",
    "Create a `DecisionTreeRegressor` model and fit it to the relevant data.\r\n",
    "Set `random_state` to 1 again when creating the model."
   ],
   "metadata": {}
  },
  {
   "cell_type": "code",
   "execution_count": 59,
   "source": [
    "# You imported DecisionTreeRegressor in your last exercise\r\n",
    "# and that code has been copied to the setup code above. So, no need to\r\n",
    "# import it again\r\n",
    "\r\n",
    "# Specify the model\r\n",
    "iowa_model = DecisionTreeRegressor(random_state = 1)\r\n",
    "\r\n",
    "# Fit iowa_model with the training data.\r\n",
    "iowa_model.fit(train_X, train_y)"
   ],
   "outputs": [
    {
     "output_type": "stream",
     "name": "stdout",
     "text": [
      "2\n"
     ]
    }
   ],
   "metadata": {}
  },
  {
   "cell_type": "markdown",
   "source": [
    "## Step 3: Make Predictions with Validation data"
   ],
   "metadata": {}
  },
  {
   "cell_type": "code",
   "execution_count": null,
   "source": [
    "# Predict with all validation observations\r\n",
    "val_predictions = iowa_model.predict(val_X)\r\n",
    "print(mean_absolute_error(val_y, val_predictions))\r\n"
   ],
   "outputs": [],
   "metadata": {}
  },
  {
   "cell_type": "markdown",
   "source": [
    "Inspect your predictions and actual values from validation data."
   ],
   "metadata": {}
  },
  {
   "cell_type": "code",
   "execution_count": null,
   "source": [
    "# print the top few validation predictions\r\n",
    "print(mean_absolute_error(val_y, val_predictions))\r\n",
    "# print the top few actual prices from validation data\r\n",
    "print(mean_absolute_error(val_y, val_predictions))"
   ],
   "outputs": [],
   "metadata": {}
  },
  {
   "cell_type": "markdown",
   "source": [
    "## Step 4: Calculate the Mean Absolute Error in Validation Data\r\n"
   ],
   "metadata": {}
  },
  {
   "cell_type": "code",
   "execution_count": null,
   "source": [
    "from sklearn.metrics import mean_absolute_error\r\n",
    "val_mae = mean_absolute_error(val_predictions, val_y)\r\n",
    "\r\n",
    "\r\n",
    "# uncomment following line to see the validation_mae\r\n",
    "print(val_mae)\r\n"
   ],
   "outputs": [],
   "metadata": {}
  }
 ],
 "metadata": {
  "orig_nbformat": 4,
  "language_info": {
   "name": "python",
   "version": "3.8.8rc1",
   "mimetype": "text/x-python",
   "codemirror_mode": {
    "name": "ipython",
    "version": 3
   },
   "pygments_lexer": "ipython3",
   "nbconvert_exporter": "python",
   "file_extension": ".py"
  },
  "kernelspec": {
   "name": "python3",
   "display_name": "Python 3.8.8rc1 64-bit"
  },
  "interpreter": {
   "hash": "3410afedb74081d81603511028deadddc25ba0f01c14e0cb891e2c2473f81884"
  }
 },
 "nbformat": 4,
 "nbformat_minor": 2
}